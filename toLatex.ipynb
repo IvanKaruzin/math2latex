{
 "cells": [
  {
   "cell_type": "code",
   "execution_count": 1,
   "id": "b050304f",
   "metadata": {},
   "outputs": [],
   "source": [
    "import kagglehub\n",
    "\n",
    "# Download latest version\n",
    "DATA_PATH = kagglehub.dataset_download(\"theseus200719/math-equations-dataset-aidav7-modified\")"
   ]
  },
  {
   "cell_type": "code",
   "execution_count": 2,
   "id": "6d47e49b",
   "metadata": {},
   "outputs": [],
   "source": [
    "import torch\n",
    "import torch.nn as nn\n",
    "import torch.optim as optim\n",
    "from torch.utils.data import Dataset, DataLoader, random_split\n",
    "import pandas as pd\n",
    "import cv2\n",
    "import os\n",
    "import ast\n",
    "import numpy as np\n",
    "from tqdm import tqdm\n",
    "import json"
   ]
  },
  {
   "cell_type": "code",
   "execution_count": 3,
   "id": "1fb0b481",
   "metadata": {},
   "outputs": [],
   "source": [
    "# Подгоняем изображения под общий размер, сохраняя отношение сторон. Паддим справа.\n",
    "def resize_and_pad(img, target_height=64, target_width=256):\n",
    "    # Проверяем, что изображение загружено корректно\n",
    "    if img is None:\n",
    "        raise ValueError(\"Не удалось загрузить изображение\")\n",
    "    \n",
    "    h, w = img.shape\n",
    "    if h == 0 or w == 0:\n",
    "        raise ValueError(\"Изображение имеет нулевые размеры\")\n",
    "    \n",
    "    scale = target_height / h\n",
    "    new_w = int(w * scale)\n",
    "\n",
    "    if new_w > target_width:\n",
    "        new_w = target_width\n",
    "\n",
    "    resized = cv2.resize(img, (new_w, target_height))\n",
    "\n",
    "    padded = np.zeros((target_height, target_width), dtype=np.float32)\n",
    "    padded[:, :new_w] = resized\n",
    "\n",
    "    return padded"
   ]
  },
  {
   "cell_type": "code",
   "execution_count": 4,
   "id": "d356d26a",
   "metadata": {},
   "outputs": [],
   "source": [
    "# ===== Dataset =====\n",
    "class FormulaDataset(Dataset):\n",
    "    def __init__(self, path, vocab, transform=None):\n",
    "        self.data = pd.read_csv(os.path.join(path, 'annotations.csv'))\n",
    "        self.img_dir = os.path.join(path, 'images')\n",
    "        self.vocab = vocab\n",
    "        self.transform = transform\n",
    "\n",
    "    def __len__(self):\n",
    "        return len(self.data)\n",
    "\n",
    "    def __getitem__(self, idx):\n",
    "        row = self.data.iloc[idx]\n",
    "\n",
    "        # --- картинка ---\n",
    "        img_path = os.path.join(self.img_dir, row['filenames'])\n",
    "        img = cv2.imread(img_path, cv2.IMREAD_GRAYSCALE)\n",
    "        \n",
    "        # Проверяем, что изображение загружено\n",
    "        if img is None:\n",
    "            raise ValueError(f\"Не удалось загрузить изображение: {img_path}\")\n",
    "        \n",
    "        img = resize_and_pad(img)\n",
    "        img = img / 255.0 # нормируем\n",
    "        img = torch.tensor(img).unsqueeze(0).float()  # (1,H,W)\n",
    "\n",
    "        # --- токены ---\n",
    "        try:\n",
    "            info = ast.literal_eval(row['image_data'])\n",
    "            tokens = info['full_latex_chars']   # список строк-токенов\n",
    "            token_ids = self.vocab.encode(tokens)\n",
    "        except (ValueError, SyntaxError, KeyError) as e:\n",
    "            raise ValueError(f\"Ошибка при обработке токенов для строки {idx}: {e}\")\n",
    "\n",
    "        return img, torch.tensor(token_ids)\n"
   ]
  },
  {
   "cell_type": "code",
   "execution_count": 5,
   "id": "cfae95f0",
   "metadata": {},
   "outputs": [],
   "source": [
    "# ===== Vocabulary =====\n",
    "class Vocab:\n",
    "    def __init__(self, token_list):\n",
    "\n",
    "        # спец символы\n",
    "        self.pad = \"<pad>\"\n",
    "        self.bos = \"<bos>\"\n",
    "        self.eos = \"<eos>\"\n",
    "        self.unk = \"<unk>\"\n",
    "\n",
    "        self.tokens = [self.pad, self.bos, self.eos, self.unk] + sorted(token_list)\n",
    "        self.stoi = {t: i for i, t in enumerate(self.tokens)}\n",
    "        self.itos = {i: t for t, i in self.stoi.items()}\n",
    "\n",
    "        self.length = len(self.tokens)  # ATTENTION!!!\n",
    "\n",
    "    def __len__(self):\n",
    "        return self.length\n",
    "\n",
    "    def encode(self, token_seq):\n",
    "        if not isinstance(token_seq, list):\n",
    "            raise ValueError(f\"Expected list of tokens, got {type(token_seq)}\")\n",
    "        \n",
    "        if not all(isinstance(t, str) for t in token_seq):\n",
    "            raise ValueError(\"All tokens must be strings\")\n",
    "        \n",
    "        return [self.stoi[self.bos]] + \\\n",
    "               [self.stoi.get(t, self.stoi[self.unk]) for t in token_seq] + \\\n",
    "               [self.stoi[self.eos]]\n",
    "\n",
    "    def decode(self, ids):\n",
    "        # Декодируем и обрезаем по первому <eos>.\n",
    "        eos_id = self.stoi[self.eos]\n",
    "        pad_id = self.stoi[self.pad]\n",
    "        bos_id = self.stoi[self.bos]\n",
    "\n",
    "        toks = []\n",
    "        for i in ids:\n",
    "            if i == eos_id:\n",
    "                break\n",
    "            # Пропускаем pad и bos токены\n",
    "            if i not in (pad_id, bos_id):\n",
    "                toks.append(self.itos[i])\n",
    "\n",
    "        return \" \".join(toks)\n"
   ]
  },
  {
   "cell_type": "code",
   "execution_count": null,
   "id": "ae3609c5",
   "metadata": {},
   "outputs": [],
   "source": [
    "df = pd.read_csv(os.path.join(DATA_PATH, \"annotations.csv\"))"
   ]
  },
  {
   "cell_type": "code",
   "execution_count": 17,
   "id": "b41387ec",
   "metadata": {},
   "outputs": [
    {
     "data": {
      "text/html": [
       "<div>\n",
       "<style scoped>\n",
       "    .dataframe tbody tr th:only-of-type {\n",
       "        vertical-align: middle;\n",
       "    }\n",
       "\n",
       "    .dataframe tbody tr th {\n",
       "        vertical-align: top;\n",
       "    }\n",
       "\n",
       "    .dataframe thead th {\n",
       "        text-align: right;\n",
       "    }\n",
       "</style>\n",
       "<table border=\"1\" class=\"dataframe\">\n",
       "  <thead>\n",
       "    <tr style=\"text-align: right;\">\n",
       "      <th></th>\n",
       "      <th>filenames</th>\n",
       "      <th>latex</th>\n",
       "      <th>uuid</th>\n",
       "      <th>unicode_str</th>\n",
       "      <th>unicode_less_curlies</th>\n",
       "      <th>image_data</th>\n",
       "      <th>font</th>\n",
       "    </tr>\n",
       "  </thead>\n",
       "  <tbody>\n",
       "    <tr>\n",
       "      <th>40503</th>\n",
       "      <td>001d21ff-cb96-4c6b-8ce1-3f5b9286ba80.jpg</td>\n",
       "      <td>\\lim_{n\\to2}\\frac{n-5}{n+6}</td>\n",
       "      <td>001d21ff-cb96-4c6b-8ce1-3f5b9286ba80</td>\n",
       "      <td>ƀ{nƄ2}ಭ{n-5}{n+6}</td>\n",
       "      <td>ƀnƄ2ಭn-5n+6</td>\n",
       "      <td>{'full_latex_chars': ['\\\\lim_', '{', 'n', '\\\\t...</td>\n",
       "      <td>Oct_252</td>\n",
       "    </tr>\n",
       "  </tbody>\n",
       "</table>\n",
       "</div>"
      ],
      "text/plain": [
       "                                      filenames                        latex  \\\n",
       "40503  001d21ff-cb96-4c6b-8ce1-3f5b9286ba80.jpg  \\lim_{n\\to2}\\frac{n-5}{n+6}   \n",
       "\n",
       "                                       uuid        unicode_str  \\\n",
       "40503  001d21ff-cb96-4c6b-8ce1-3f5b9286ba80  ƀ{nƄ2}ಭ{n-5}{n+6}   \n",
       "\n",
       "      unicode_less_curlies                                         image_data  \\\n",
       "40503          ƀnƄ2ಭn-5n+6  {'full_latex_chars': ['\\\\lim_', '{', 'n', '\\\\t...   \n",
       "\n",
       "          font  \n",
       "40503  Oct_252  "
      ]
     },
     "execution_count": 17,
     "metadata": {},
     "output_type": "execute_result"
    }
   ],
   "source": [
    "df[df['filenames'] == '001d21ff-cb96-4c6b-8ce1-3f5b9286ba80.jpg']"
   ]
  },
  {
   "cell_type": "code",
   "execution_count": 13,
   "id": "f3442fa7",
   "metadata": {},
   "outputs": [
    {
     "name": "stderr",
     "output_type": "stream",
     "text": [
      "100%|██████████| 100000/100000 [01:24<00:00, 1178.71it/s]\n"
     ]
    }
   ],
   "source": [
    "# Ищем уникальные токены из всего списка токенов\n",
    "df = pd.read_csv(os.path.join(DATA_PATH, \"annotations.csv\"))\n",
    "\n",
    "all_token_lists = []\n",
    "for i, row in tqdm(df.iterrows(), total=len(df)):\n",
    "    info = ast.literal_eval(row['image_data'])\n",
    "    tokens = info['full_latex_chars']\n",
    "    all_token_lists.append(tokens)\n",
    "\n",
    "unique_tokens = set()\n",
    "for seq in all_token_lists:\n",
    "    unique_tokens.update(seq)"
   ]
  },
  {
   "cell_type": "code",
   "execution_count": 14,
   "id": "d62c3825",
   "metadata": {},
   "outputs": [],
   "source": [
    "with open(\"tokens.json\", \"w\") as f:\n",
    "    json.dump(list(unique_tokens), f)"
   ]
  },
  {
   "cell_type": "code",
   "execution_count": 6,
   "id": "250075df",
   "metadata": {},
   "outputs": [
    {
     "name": "stdout",
     "output_type": "stream",
     "text": [
      "['<pad>', '<bos>', '<eos>', '<unk>', '+', '-', '.', '/', '0', '1', '2', '3', '4', '5', '6', '7', '8', '9', '=', '[', '\\\\cdot', '\\\\cos', '\\\\cot', '\\\\csc', '\\\\frac', '\\\\infty', '\\\\left(', '\\\\left|', '\\\\lim_', '\\\\ln', '\\\\log', '\\\\pi', '\\\\right)', '\\\\right|', '\\\\sec', '\\\\sin', '\\\\sqrt', '\\\\tan', '\\\\theta', '\\\\to', ']', '^', '_', 'a', 'b', 'c', 'd', 'e', 'g', 'h', 'k', 'n', 'p', 'r', 's', 't', 'u', 'v', 'w', 'x', 'y', 'z', '{', '}']\n"
     ]
    }
   ],
   "source": [
    "with open(\"tokens.json\", \"r\") as f:\n",
    "    token_list = json.load(f)\n",
    "\n",
    "vocab = Vocab(token_list)\n",
    "print(vocab.tokens)"
   ]
  },
  {
   "cell_type": "code",
   "execution_count": 7,
   "id": "b824e35b",
   "metadata": {},
   "outputs": [],
   "source": [
    "def collate_fn(batch):\n",
    "    if not batch:\n",
    "        raise ValueError(\"Пустой батч\")\n",
    "    \n",
    "    imgs, seqs = zip(*batch)\n",
    "\n",
    "    # картинки\n",
    "    imgs = torch.stack(imgs, dim=0)\n",
    "\n",
    "    # токены паддим до максимальной длины в батче\n",
    "    if not seqs:\n",
    "        raise ValueError(\"Нет последовательностей в батче\")\n",
    "    \n",
    "    max_len = max(len(seq) for seq in seqs)\n",
    "    if max_len == 0:\n",
    "        raise ValueError(\"Все последовательности пустые\")\n",
    "    \n",
    "    padded_seqs = torch.full((len(seqs), max_len), fill_value=vocab.stoi[vocab.pad], dtype=torch.long)\n",
    "\n",
    "    for i, seq in enumerate(seqs):\n",
    "        if len(seq) > 0:\n",
    "            padded_seqs[i, :len(seq)] = seq\n",
    "\n",
    "    return imgs, padded_seqs"
   ]
  },
  {
   "cell_type": "code",
   "execution_count": 8,
   "id": "546ed03b",
   "metadata": {},
   "outputs": [],
   "source": [
    "# создаём датасет\n",
    "dataset = FormulaDataset(DATA_PATH, vocab)"
   ]
  },
  {
   "cell_type": "code",
   "execution_count": 9,
   "id": "695643f4",
   "metadata": {},
   "outputs": [],
   "source": [
    "\n",
    "# Разделяем на train (80%), val (10%), test (10%)\n",
    "train_size = int(0.7 * len(dataset))\n",
    "val_size = int(0.2 * len(dataset))\n",
    "test_size = len(dataset) - train_size - val_size\n",
    "\n",
    "train_ds, val_ds, test_ds = random_split(dataset, [train_size, val_size, test_size])\n",
    "\n",
    "\n",
    "train_loader = DataLoader(train_ds, batch_size=64, shuffle=True, pin_memory=True, collate_fn=collate_fn)\n",
    "val_loader = DataLoader(val_ds, batch_size=64, shuffle=False, pin_memory=True, collate_fn=collate_fn)\n",
    "test_loader = DataLoader(test_ds, batch_size=64, shuffle=False, pin_memory=True, collate_fn=collate_fn)"
   ]
  },
  {
   "cell_type": "code",
   "execution_count": null,
   "id": "dec82b5c",
   "metadata": {},
   "outputs": [],
   "source": [
    "# --- CNN encoder ---\n",
    "class CNNEncoder(nn.Module):\n",
    "    def __init__(self, hidden_dim=256):\n",
    "        super().__init__()\n",
    "        self.conv = nn.Sequential(\n",
    "            nn.Conv2d(1, 64, 3, stride=1, padding=1),\n",
    "            nn.BatchNorm2d(64), nn.ReLU(),\n",
    "            nn.MaxPool2d(2,2),\n",
    "\n",
    "            nn.Conv2d(64, 128, 3, stride=1, padding=1),\n",
    "            nn.BatchNorm2d(128), nn.ReLU(),\n",
    "            nn.MaxPool2d(2,2),\n",
    "\n",
    "            nn.Conv2d(128, hidden_dim, 3, stride=1, padding=1),\n",
    "            nn.BatchNorm2d(hidden_dim), nn.ReLU(),\n",
    "        )\n",
    "\n",
    "    def forward(self, x):\n",
    "        feats = self.conv(x)  # [B,Hid,h,w]\n",
    "        B, C, H, W = feats.shape\n",
    "        # Преобразуем в последовательность: [B, H*W, C]\n",
    "        feats = feats.permute(0, 2, 3, 1).reshape(B, H*W, C)\n",
    "        return feats  # [B, seq_len, hidden_dim]\n"
   ]
  },
  {
   "cell_type": "code",
   "execution_count": null,
   "id": "557cdf24",
   "metadata": {},
   "outputs": [],
   "source": [
    "class TransformerDecoder(nn.Module):\n",
    "    def __init__(self, vocab_size, hidden_dim=256, num_layers=4, nhead=8, dropout=0.1, max_len=512):\n",
    "        super().__init__()\n",
    "        self.token_emb = nn.Embedding(vocab_size, hidden_dim)\n",
    "        self.pos_emb = nn.Embedding(max_len, hidden_dim)\n",
    "        self.max_len = max_len\n",
    "\n",
    "        decoder_layer = nn.TransformerDecoderLayer(\n",
    "            d_model=hidden_dim,\n",
    "            nhead=nhead,\n",
    "            dim_feedforward=hidden_dim * 4,\n",
    "            dropout=dropout,\n",
    "            batch_first=True,\n",
    "        )\n",
    "        self.transformer_decoder = nn.TransformerDecoder(decoder_layer, num_layers=num_layers)\n",
    "        self.fc_out = nn.Linear(hidden_dim, vocab_size)\n",
    "        \n",
    "        # Создаем маску один раз и кэшируем\n",
    "        self.register_buffer('causal_mask', torch.triu(torch.ones(max_len, max_len), diagonal=1).bool())\n",
    "\n",
    "    def forward(self, tgt, memory):\n",
    "        B, T = tgt.shape\n",
    "        tok_emb = self.token_emb(tgt)  # [B,T,H]\n",
    "        pos = self.pos_emb(torch.arange(T, device=tgt.device))  # [T,H]\n",
    "        pos = pos.unsqueeze(0).expand(B, -1, -1)\n",
    "        tgt_emb = tok_emb + pos\n",
    "\n",
    "        # Используем маску\n",
    "        tgt_mask = self.causal_mask[:T, :T]\n",
    "\n",
    "        out = self.transformer_decoder(tgt_emb, memory, tgt_mask=tgt_mask)  # [B,T,H]\n",
    "        return self.fc_out(out)"
   ]
  },
  {
   "cell_type": "code",
   "execution_count": null,
   "id": "b703c94f",
   "metadata": {},
   "outputs": [],
   "source": [
    "# Итоговая модель \n",
    "class FormulaRecognizer(nn.Module):\n",
    "    def __init__(self, vocab_size, hidden_dim=256, max_len=512):\n",
    "        super().__init__()\n",
    "        self.encoder = CNNEncoder(hidden_dim)\n",
    "        self.decoder = TransformerDecoder(vocab_size, hidden_dim, max_len=max_len)\n",
    "        self.max_len = max_len\n",
    "        self.vocab_size = vocab_size\n",
    "\n",
    "    def forward(self, images, tokens):\n",
    "        memory = self.encoder(images)  # [B,S,H]\n",
    "        out = self.decoder(tokens[:, :-1], memory)  # предсказываем без последнего токена\n",
    "        return out  # [B,T-1,V]\n",
    "\n",
    "    def greedy_decode(self, image, vocab, device=\"cpu\"):\n",
    "        self.eval()\n",
    "        with torch.no_grad():\n",
    "            memory = self.encoder(image.unsqueeze(0).to(device))  # [1,S,H]\n",
    "\n",
    "            # Используем правильные токены из словаря\n",
    "            start_token = vocab.stoi[vocab.bos]\n",
    "            end_token = vocab.stoi[vocab.eos]\n",
    "            \n",
    "            tokens = torch.tensor([[start_token]], device=device)\n",
    "            for _ in range(self.max_len):\n",
    "                out = self.decoder(tokens, memory)  # [1,T,V]\n",
    "                next_token = out[:, -1, :].argmax(-1)  # [1]\n",
    "                tokens = torch.cat([tokens, next_token.unsqueeze(0)], dim=1)\n",
    "                if next_token.item() == end_token:\n",
    "                    break\n",
    "\n",
    "        return tokens.squeeze(0).tolist()"
   ]
  },
  {
   "cell_type": "code",
   "execution_count": null,
   "id": "40a8b458",
   "metadata": {},
   "outputs": [],
   "source": [
    "def train_model(model, train_loader, val_loader, test_loader, tokenizer, epochs=5, device=\"cuda\"):\n",
    "    criterion = nn.CrossEntropyLoss(ignore_index=tokenizer.stoi[tokenizer.pad])  # паддинг\n",
    "    optimizer = optim.Adam(model.parameters(), lr=1e-3)\n",
    "\n",
    "    model = model.to(device)\n",
    "\n",
    "    for epoch in range(epochs):\n",
    "        # ---------- TRAIN ----------\n",
    "        model.train()\n",
    "        total_loss = 0\n",
    "        train_correct = 0\n",
    "        train_total = 0\n",
    "        train_bar = tqdm(train_loader, desc=f\"Epoch {epoch+1}/{epochs} [Train]\")\n",
    "\n",
    "        for imgs, tokens in train_bar:\n",
    "            imgs, tokens = imgs.to(device), tokens.to(device)\n",
    "\n",
    "            optimizer.zero_grad()\n",
    "            outputs = model(imgs, tokens[:, :-1])  # [B, T-1, vocab_size]\n",
    "\n",
    "            # делаем срез по минимальной длине\n",
    "            min_len = min(outputs.size(1), tokens[:, 1:].size(1))\n",
    "            outputs = outputs[:, :min_len, :]\n",
    "            targets = tokens[:, 1:1+min_len]\n",
    "\n",
    "            loss = criterion(\n",
    "                outputs.reshape(-1, outputs.size(-1)),\n",
    "                targets.reshape(-1)\n",
    "            )\n",
    "\n",
    "            loss.backward()\n",
    "            optimizer.step()\n",
    "\n",
    "            total_loss += loss.item()\n",
    "            \n",
    "            preds = outputs.argmax(-1)  # [B, T]\n",
    "            pad_id = tokenizer.stoi[tokenizer.pad]\n",
    "            \n",
    "            for i in range(preds.size(0)):\n",
    "                pred_tokens = preds[i].cpu().tolist()\n",
    "                true_tokens = tokens[i, 1:1+min_len].cpu().tolist()\n",
    "                \n",
    "                for j in range(min(len(pred_tokens), len(true_tokens))):\n",
    "                    if true_tokens[j] != pad_id:\n",
    "                        if pred_tokens[j] == true_tokens[j]:\n",
    "                            train_correct += 1\n",
    "                        train_total += 1\n",
    "            \n",
    "            train_bar.set_postfix(loss=loss.item(), acc=f\"{train_correct/train_total:.3f}\")\n",
    "\n",
    "        avg_train_loss = total_loss / len(train_loader)\n",
    "        train_accuracy = train_correct / train_total if train_total > 0 else 0\n",
    "\n",
    "        # ---------- VALID ----------\n",
    "        model.eval()\n",
    "        val_loss = 0\n",
    "        val_correct = 0\n",
    "        val_total = 0\n",
    "        examples = []\n",
    "        with torch.no_grad():\n",
    "            val_bar = tqdm(val_loader, desc=f\"Epoch {epoch+1}/{epochs} [Val]\")\n",
    "            for imgs, tokens in val_bar:\n",
    "                imgs, tokens = imgs.to(device), tokens.to(device)\n",
    "                outputs = model(imgs, tokens[:, :-1])\n",
    "\n",
    "                min_len = min(outputs.size(1), tokens[:, 1:].size(1))\n",
    "                outputs = outputs[:, :min_len, :]\n",
    "                targets = tokens[:, 1:1+min_len]\n",
    "\n",
    "                loss = criterion(\n",
    "                    outputs.reshape(-1, outputs.size(-1)),\n",
    "                    targets.reshape(-1)\n",
    "                )\n",
    "                val_loss += loss.item()\n",
    "\n",
    "                # Подсчет accuracy для валидационной выборки (по токенам)\n",
    "                preds = outputs.argmax(-1)  # [B, T]\n",
    "                pad_id = tokenizer.stoi[tokenizer.pad]\n",
    "                \n",
    "                for i in range(preds.size(0)):\n",
    "                    # Сравниваем токены по отдельности\n",
    "                    pred_tokens = preds[i].cpu().tolist()\n",
    "                    true_tokens = tokens[i, 1:1+min_len].cpu().tolist()\n",
    "                    \n",
    "                    # Считаем совпадения только для не-pad токенов\n",
    "                    for j in range(min(len(pred_tokens), len(true_tokens))):\n",
    "                        if true_tokens[j] != pad_id:  # Игнорируем pad токены в истинных значениях\n",
    "                            if pred_tokens[j] == true_tokens[j]:\n",
    "                                val_correct += 1\n",
    "                            val_total += 1\n",
    "\n",
    "                if len(examples) < 3:\n",
    "                    pred_text = tokenizer.decode([t for t in preds[0].cpu().tolist() if t != pad_id])\n",
    "                    true_text = tokenizer.decode([t for t in tokens[0, 1:1+min_len].cpu().tolist() if t != pad_id])\n",
    "                    examples.append((pred_text, true_text))\n",
    "\n",
    "        avg_val_loss = val_loss / len(val_loader)\n",
    "        val_accuracy = val_correct / val_total if val_total > 0 else 0\n",
    "\n",
    "        print(f\"\\nEpoch {epoch+1}/{epochs} | Train Loss: {avg_train_loss:.4f} | Train Acc: {train_accuracy:.3f} | Val Loss: {avg_val_loss:.4f} | Val Acc: {val_accuracy:.3f}\")\n",
    "        for i, (pred, true) in enumerate(examples):\n",
    "            print(f\"  EX{i+1}: pred = {pred}\")\n",
    "            print(f\"       true = {true}\")\n",
    "\n",
    "        torch.save(model.state_dict(), os.path.join(\"models\",f\"model_epoch{epoch+1}.pth\"))\n",
    "        print(f\"Model saved: model_epoch{epoch+1}.pth\")\n",
    "    \n",
    "    # Финальная оценка на тестовой выборке\n",
    "    print(\"\\n\" + \"=\"*50)\n",
    "    print(\"ФИНАЛЬНАЯ ОЦЕНКА НА ТЕСТОВОЙ ВЫБОРКЕ\")\n",
    "    print(\"=\"*50)\n",
    "    \n",
    "    model.eval()\n",
    "    test_loss = 0\n",
    "    test_correct = 0\n",
    "    test_total = 0\n",
    "    test_examples = []\n",
    "    with torch.no_grad():\n",
    "        test_bar = tqdm(test_loader, desc=\"Тестирование\")\n",
    "        for imgs, tokens in test_bar:\n",
    "            imgs, tokens = imgs.to(device), tokens.to(device)\n",
    "            outputs = model(imgs, tokens[:, :-1])\n",
    "\n",
    "            min_len = min(outputs.size(1), tokens[:, 1:].size(1))\n",
    "            outputs = outputs[:, :min_len, :]\n",
    "            targets = tokens[:, 1:1+min_len]\n",
    "\n",
    "            loss = criterion(\n",
    "                outputs.reshape(-1, outputs.size(-1)),\n",
    "                targets.reshape(-1)\n",
    "            )\n",
    "            test_loss += loss.item()\n",
    "\n",
    "            # Подсчет accuracy для тестовой выборки (по токенам)\n",
    "            preds = outputs.argmax(-1)  # [B, T]\n",
    "            pad_id = tokenizer.stoi[tokenizer.pad]\n",
    "            \n",
    "            for i in range(preds.size(0)):\n",
    "                # Сравниваем токены по отдельности\n",
    "                pred_tokens = preds[i].cpu().tolist()\n",
    "                true_tokens = tokens[i, 1:1+min_len].cpu().tolist()\n",
    "                \n",
    "                # Считаем совпадения только для не-pad токенов\n",
    "                for j in range(min(len(pred_tokens), len(true_tokens))):\n",
    "                    if true_tokens[j] != pad_id:  # Игнорируем pad токены в истинных значениях\n",
    "                        if pred_tokens[j] == true_tokens[j]:\n",
    "                            test_correct += 1\n",
    "                        test_total += 1\n",
    "\n",
    "            if len(test_examples) < 5:  # Показываем больше примеров для теста\n",
    "                pred_text = tokenizer.decode([t for t in preds[0].cpu().tolist() if t != pad_id])\n",
    "                true_text = tokenizer.decode([t for t in tokens[0, 1:1+min_len].cpu().tolist() if t != pad_id])\n",
    "                test_examples.append((pred_text, true_text))\n",
    "\n",
    "    avg_test_loss = test_loss / len(test_loader)\n",
    "    test_accuracy = test_correct / test_total if test_total > 0 else 0\n",
    "    print(f\"\\nФинальная оценка на тестовой выборке:\")\n",
    "    print(f\"Test Loss: {avg_test_loss:.4f} | Test Accuracy: {test_accuracy:.3f}\")\n",
    "    print(f\"Test Examples:\")\n",
    "    for i, (pred, true) in enumerate(test_examples):\n",
    "        print(f\"  TEST{i+1}: pred = {pred}\")\n",
    "        print(f\"           true = {true}\")\n",
    "    \n",
    "    return avg_test_loss, test_accuracy\n"
   ]
  },
  {
   "cell_type": "code",
   "execution_count": 13,
   "id": "42802eb3",
   "metadata": {},
   "outputs": [],
   "source": [
    "device = \"cuda\" if torch.cuda.is_available() else \"cpu\"\n",
    "\n",
    "model = FormulaRecognizer(vocab_size=len(vocab))"
   ]
  },
  {
   "cell_type": "code",
   "execution_count": null,
   "id": "5983f17c",
   "metadata": {},
   "outputs": [
    {
     "name": "stderr",
     "output_type": "stream",
     "text": [
      "Epoch 1/15 [Train]: 100%|██████████| 1094/1094 [09:16<00:00,  1.97it/s, acc=0.725, loss=0.653]\n",
      "Epoch 1/15 [Val]: 100%|██████████| 313/313 [01:40<00:00,  3.12it/s]\n"
     ]
    },
    {
     "name": "stdout",
     "output_type": "stream",
     "text": [
      "\n",
      "Epoch 1/15 | Train Loss: 0.9094 | Train Acc: 0.725 | Val Loss: 0.6104 | Val Acc: 0.797\n",
      "  EX1: pred = \\lim_ { y \\to \\infty \\infty } { + } } \\frac { h ^ 2 } { h h - 2 \\right) \\left( h + 2 \\right) }\n",
      "       true = \\lim_ { h \\to - 9 ^ { + } } \\frac { h - 7 } { \\left( h - 2 \\right) \\left( h + 2 \\right) }\n",
      "  EX2: pred = \\frac { \\lim_ { w \\to 2 } \\frac \\left( \\left( \\sin { \\left( 2 b \\right) } \\frac { d } { d b } \\sin { \\left( 2 b \\right) } + \\sin { \\left( 2 b \\right) } \\frac { d } { d b } \\sin { \\left( 2 b \\right) } \\right) } { \\lim_ { b \\to 2 } 2 }\n",
      "       true = \\frac { \\lim_ { b \\to 7 } 2 0 \\left( \\tan { \\left( 4 b \\right) } \\frac { d } { d b } \\tan { \\left( 3 b \\right) } + \\tan { \\left( 2 b \\right) } \\frac { d } { d b } \\cos { \\left( 2 b \\right) } \\right) } { \\lim_ { b \\to 2 } 2 }\n",
      "  EX3: pred = \\lim_ { h \\to \\infty } \\frac { 2 t ^ { 2 } } - } ^ { 2 } } { t \\left| ^ { 2 } +\n",
      "       true = \\lim_ { t \\to \\infty } \\frac { 8 t ^ { 7 } + 4 t ^ { 1 } } { 3 t ^ { 9 } }\n",
      "Model saved: model_epoch1.pth\n"
     ]
    },
    {
     "name": "stderr",
     "output_type": "stream",
     "text": [
      "Epoch 2/15 [Train]: 100%|██████████| 1094/1094 [09:20<00:00,  1.95it/s, acc=0.818, loss=0.393]\n",
      "Epoch 2/15 [Val]: 100%|██████████| 313/313 [01:33<00:00,  3.33it/s]\n"
     ]
    },
    {
     "name": "stdout",
     "output_type": "stream",
     "text": [
      "\n",
      "Epoch 2/15 | Train Loss: 0.5487 | Train Acc: 0.818 | Val Loss: 0.4118 | Val Acc: 0.865\n",
      "  EX1: pred = \\lim_ { h \\to 4 7 } { + } } \\frac { h ^ 7 } { \\left( h - 2 \\right) \\left( h + 2 \\right) }\n",
      "       true = \\lim_ { h \\to - 9 ^ { + } } \\frac { h - 7 } { \\left( h - 2 \\right) \\left( h + 2 \\right) }\n",
      "  EX2: pred = \\frac { \\lim_ { w \\to 1 } 2 2 \\left( \\sin { \\left( b b \\right) } \\frac { d } { d b } \\tan { \\left( b b \\right) } + \\cos { \\left( b b \\right) } \\frac { d } { d b } \\sin { \\left( 4 b \\right) } \\right) } { \\lim_ { b \\to 2 } 2 }\n",
      "       true = \\frac { \\lim_ { b \\to 7 } 2 0 \\left( \\tan { \\left( 4 b \\right) } \\frac { d } { d b } \\tan { \\left( 3 b \\right) } + \\tan { \\left( 2 b \\right) } \\frac { d } { d b } \\cos { \\left( 2 b \\right) } \\right) } { \\lim_ { b \\to 2 } 2 }\n",
      "  EX3: pred = \\lim_ { x \\to \\infty } \\frac { 8 t ^ { 7 } + 0 t ^ { 7 } } { 8 t ^ { 9 } }\n",
      "       true = \\lim_ { t \\to \\infty } \\frac { 8 t ^ { 7 } + 4 t ^ { 1 } } { 3 t ^ { 9 } }\n",
      "Model saved: model_epoch2.pth\n"
     ]
    },
    {
     "name": "stderr",
     "output_type": "stream",
     "text": [
      "Epoch 3/15 [Train]: 100%|██████████| 1094/1094 [09:00<00:00,  2.02it/s, acc=0.881, loss=0.296]\n",
      "Epoch 3/15 [Val]: 100%|██████████| 313/313 [01:33<00:00,  3.33it/s]\n"
     ]
    },
    {
     "name": "stdout",
     "output_type": "stream",
     "text": [
      "\n",
      "Epoch 3/15 | Train Loss: 0.3661 | Train Acc: 0.881 | Val Loss: 0.4389 | Val Acc: 0.868\n",
      "  EX1: pred = \\lim_ { h \\to 4 4 } { + } } \\frac { h ^ 7 } { \\left( h - 2 \\right) \\left( h + 2 \\right) }\n",
      "       true = \\lim_ { h \\to - 9 ^ { + } } \\frac { h - 7 } { \\left( h - 2 \\right) \\left( h + 2 \\right) }\n",
      "  EX2: pred = \\frac { \\lim_ { \\theta \\to 1 } 2 \\left( \\left( \\tan { \\left( 2 b \\right) } \\frac { d } { d b } \\tan { \\left( 2 b \\right) } + \\tan { \\left( 0 b \\right) } \\frac { d } { d b } \\tan { \\left( 2 b \\right) } \\right) } { \\lim_ { b \\to 1 } 2 }\n",
      "       true = \\frac { \\lim_ { b \\to 7 } 2 0 \\left( \\tan { \\left( 4 b \\right) } \\frac { d } { d b } \\tan { \\left( 3 b \\right) } + \\tan { \\left( 2 b \\right) } \\frac { d } { d b } \\cos { \\left( 2 b \\right) } \\right) } { \\lim_ { b \\to 2 } 2 }\n",
      "  EX3: pred = \\lim_ { t \\to \\infty } \\frac { 8 t ^ { 7 } + 4 t ^ { 7 } + { t t ^ { 9 } }\n",
      "       true = \\lim_ { t \\to \\infty } \\frac { 8 t ^ { 7 } + 4 t ^ { 1 } } { 3 t ^ { 9 } }\n",
      "Model saved: model_epoch3.pth\n"
     ]
    },
    {
     "name": "stderr",
     "output_type": "stream",
     "text": [
      "Epoch 4/15 [Train]: 100%|██████████| 1094/1094 [09:01<00:00,  2.02it/s, acc=0.907, loss=0.247]\n",
      "Epoch 4/15 [Val]: 100%|██████████| 313/313 [01:35<00:00,  3.28it/s]\n"
     ]
    },
    {
     "name": "stdout",
     "output_type": "stream",
     "text": [
      "\n",
      "Epoch 4/15 | Train Loss: 0.2869 | Train Acc: 0.907 | Val Loss: 0.2421 | Val Acc: 0.920\n",
      "  EX1: pred = \\lim_ { h \\to - 2 } { - } } \\frac { h - 7 } { \\left( h - 2 \\right) \\left( h + 2 \\right) }\n",
      "       true = \\lim_ { h \\to - 9 ^ { + } } \\frac { h - 7 } { \\left( h - 2 \\right) \\left( h + 2 \\right) }\n",
      "  EX2: pred = \\frac { \\lim_ { y \\to 1 } 4 4 \\left( \\tan { \\left( b b \\right) } \\frac { d } { d b } \\tan { \\left( b b \\right) } + \\tan { \\left( b b \\right) } \\frac { d } { d b } \\tan { \\left( 0 b \\right) } \\right) } { \\lim_ { b \\to 1 } 1 }\n",
      "       true = \\frac { \\lim_ { b \\to 7 } 2 0 \\left( \\tan { \\left( 4 b \\right) } \\frac { d } { d b } \\tan { \\left( 3 b \\right) } + \\tan { \\left( 2 b \\right) } \\frac { d } { d b } \\cos { \\left( 2 b \\right) } \\right) } { \\lim_ { b \\to 2 } 2 }\n",
      "  EX3: pred = \\lim_ { t \\to \\infty } \\frac { 8 t ^ { 7 } + 4 t } { 1 } } { t \\left| ^ { 9 } }\n",
      "       true = \\lim_ { t \\to \\infty } \\frac { 8 t ^ { 7 } + 4 t ^ { 1 } } { 3 t ^ { 9 } }\n",
      "Model saved: model_epoch4.pth\n"
     ]
    },
    {
     "name": "stderr",
     "output_type": "stream",
     "text": [
      "Epoch 5/15 [Train]: 100%|██████████| 1094/1094 [09:00<00:00,  2.02it/s, acc=0.919, loss=0.265]\n",
      "Epoch 5/15 [Val]: 100%|██████████| 313/313 [01:35<00:00,  3.29it/s]\n"
     ]
    },
    {
     "name": "stdout",
     "output_type": "stream",
     "text": [
      "\n",
      "Epoch 5/15 | Train Loss: 0.2477 | Train Acc: 0.919 | Val Loss: 0.2194 | Val Acc: 0.928\n",
      "  EX1: pred = \\lim_ { h \\to - 7 } { - } } \\frac { 7 - 7 } { \\left( h - 2 \\right) \\left( h + 2 \\right) }\n",
      "       true = \\lim_ { h \\to - 9 ^ { + } } \\frac { h - 7 } { \\left( h - 2 \\right) \\left( h + 2 \\right) }\n",
      "  EX2: pred = \\frac { \\lim_ { w \\to 1 } 2 2 \\left( \\tan { \\left( 2 b \\right) } \\frac { d } { d b } \\tan { \\left( 2 b \\right) } + \\tan { \\left( 2 b \\right) } \\frac { d } { d b } \\tan { \\left( 2 b \\right) } \\right) } { \\lim_ { b \\to 1 } 2 }\n",
      "       true = \\frac { \\lim_ { b \\to 7 } 2 0 \\left( \\tan { \\left( 4 b \\right) } \\frac { d } { d b } \\tan { \\left( 3 b \\right) } + \\tan { \\left( 2 b \\right) } \\frac { d } { d b } \\cos { \\left( 2 b \\right) } \\right) } { \\lim_ { b \\to 2 } 2 }\n",
      "  EX3: pred = \\lim_ { t \\to \\infty } \\frac { 8 t ^ { 7 } + 4 t } { 1 } } { t t ^ { 9 } }\n",
      "       true = \\lim_ { t \\to \\infty } \\frac { 8 t ^ { 7 } + 4 t ^ { 1 } } { 3 t ^ { 9 } }\n",
      "Model saved: model_epoch5.pth\n"
     ]
    },
    {
     "name": "stderr",
     "output_type": "stream",
     "text": [
      "Epoch 6/15 [Train]: 100%|██████████| 1094/1094 [09:01<00:00,  2.02it/s, acc=0.927, loss=0.205]\n",
      "Epoch 6/15 [Val]: 100%|██████████| 313/313 [01:40<00:00,  3.13it/s]\n"
     ]
    },
    {
     "name": "stdout",
     "output_type": "stream",
     "text": [
      "\n",
      "Epoch 6/15 | Train Loss: 0.2217 | Train Acc: 0.927 | Val Loss: 0.2098 | Val Acc: 0.931\n",
      "  EX1: pred = \\lim_ { h \\to - 1 ^ { - } } \\frac { h - 7 } { \\left( h - 2 \\right) \\left( h + 2 \\right) }\n",
      "       true = \\lim_ { h \\to - 9 ^ { + } } \\frac { h - 7 } { \\left( h - 2 \\right) \\left( h + 2 \\right) }\n",
      "  EX2: pred = \\frac { \\lim_ { a \\to 1 } 2 4 \\left( \\tan { \\left( 2 b \\right) } \\frac { d } { d b } \\tan { \\left( 2 b \\right) } + \\tan { \\left( 2 b \\right) } \\frac { d } { d b } \\tan { \\left( 2 b \\right) } \\right) } { \\lim_ { b \\to 2 } 2 }\n",
      "       true = \\frac { \\lim_ { b \\to 7 } 2 0 \\left( \\tan { \\left( 4 b \\right) } \\frac { d } { d b } \\tan { \\left( 3 b \\right) } + \\tan { \\left( 2 b \\right) } \\frac { d } { d b } \\cos { \\left( 2 b \\right) } \\right) } { \\lim_ { b \\to 2 } 2 }\n",
      "  EX3: pred = \\lim_ { t \\to \\infty } \\frac { 8 t ^ { 7 } + 4 t } { 7 } } { 3 t ^ { 9 } }\n",
      "       true = \\lim_ { t \\to \\infty } \\frac { 8 t ^ { 7 } + 4 t ^ { 1 } } { 3 t ^ { 9 } }\n",
      "Model saved: model_epoch6.pth\n"
     ]
    },
    {
     "name": "stderr",
     "output_type": "stream",
     "text": [
      "Epoch 7/15 [Train]: 100%|██████████| 1094/1094 [09:21<00:00,  1.95it/s, acc=0.934, loss=0.241]\n",
      "Epoch 7/15 [Val]: 100%|██████████| 313/313 [01:40<00:00,  3.11it/s]\n"
     ]
    },
    {
     "name": "stdout",
     "output_type": "stream",
     "text": [
      "\n",
      "Epoch 7/15 | Train Loss: 0.2019 | Train Acc: 0.934 | Val Loss: 0.1896 | Val Acc: 0.938\n",
      "  EX1: pred = \\lim_ { h \\to - 2 ^ { - } } \\frac { h - 7 } { \\left( h - 2 \\right) \\left( h + 7 \\right) }\n",
      "       true = \\lim_ { h \\to - 9 ^ { + } } \\frac { h - 7 } { \\left( h - 2 \\right) \\left( h + 2 \\right) }\n",
      "  EX2: pred = \\frac { \\lim_ { t \\to 1 } 2 1 \\left( \\tan { \\left( 2 b \\right) } \\frac { d } { d b } \\tan { \\left( 2 b \\right) } + \\tan { \\left( 2 b \\right) } \\frac { d } { d b } \\tan { \\left( 2 b \\right) } \\right) } { \\lim_ { b \\to 1 } 2 }\n",
      "       true = \\frac { \\lim_ { b \\to 7 } 2 0 \\left( \\tan { \\left( 4 b \\right) } \\frac { d } { d b } \\tan { \\left( 3 b \\right) } + \\tan { \\left( 2 b \\right) } \\frac { d } { d b } \\cos { \\left( 2 b \\right) } \\right) } { \\lim_ { b \\to 2 } 2 }\n",
      "  EX3: pred = \\lim_ { t \\to \\infty } \\frac { 8 t ^ { 7 } + 4 t } { 1 } } { t t ^ { 9 } }\n",
      "       true = \\lim_ { t \\to \\infty } \\frac { 8 t ^ { 7 } + 4 t ^ { 1 } } { 3 t ^ { 9 } }\n",
      "Model saved: model_epoch7.pth\n"
     ]
    },
    {
     "name": "stderr",
     "output_type": "stream",
     "text": [
      "Epoch 8/15 [Train]: 100%|██████████| 1094/1094 [09:07<00:00,  2.00it/s, acc=0.939, loss=0.162]\n",
      "Epoch 8/15 [Val]: 100%|██████████| 313/313 [01:39<00:00,  3.14it/s]\n"
     ]
    },
    {
     "name": "stdout",
     "output_type": "stream",
     "text": [
      "\n",
      "Epoch 8/15 | Train Loss: 0.1863 | Train Acc: 0.939 | Val Loss: 0.1812 | Val Acc: 0.941\n",
      "  EX1: pred = \\lim_ { h \\to - 4 ^ { - } } \\frac { h - 7 } { \\left( h - 7 \\right) \\left( h + 2 \\right) }\n",
      "       true = \\lim_ { h \\to - 9 ^ { + } } \\frac { h - 7 } { \\left( h - 2 \\right) \\left( h + 2 \\right) }\n",
      "  EX2: pred = \\frac { \\lim_ { h \\to 1 } 1 1 \\left( \\tan { \\left( 2 b \\right) } \\frac { d } { d b } \\tan { \\left( 2 b \\right) } + \\cos { \\left( b b \\right) } \\frac { d } { d b } \\tan { \\left( b b \\right) } \\right) } { \\lim_ { b \\to 1 } 2 }\n",
      "       true = \\frac { \\lim_ { b \\to 7 } 2 0 \\left( \\tan { \\left( 4 b \\right) } \\frac { d } { d b } \\tan { \\left( 3 b \\right) } + \\tan { \\left( 2 b \\right) } \\frac { d } { d b } \\cos { \\left( 2 b \\right) } \\right) } { \\lim_ { b \\to 2 } 2 }\n",
      "  EX3: pred = \\lim_ { t \\to \\infty } \\frac { 8 t ^ { 7 } + 4 t ^ { 1 } } { 3 t ^ { 9 } }\n",
      "       true = \\lim_ { t \\to \\infty } \\frac { 8 t ^ { 7 } + 4 t ^ { 1 } } { 3 t ^ { 9 } }\n",
      "Model saved: model_epoch8.pth\n"
     ]
    },
    {
     "name": "stderr",
     "output_type": "stream",
     "text": [
      "Epoch 9/15 [Train]: 100%|██████████| 1094/1094 [09:16<00:00,  1.97it/s, acc=0.943, loss=0.192]\n",
      "Epoch 9/15 [Val]: 100%|██████████| 313/313 [01:39<00:00,  3.14it/s]\n"
     ]
    },
    {
     "name": "stdout",
     "output_type": "stream",
     "text": [
      "\n",
      "Epoch 9/15 | Train Loss: 0.1745 | Train Acc: 0.943 | Val Loss: 0.1782 | Val Acc: 0.943\n",
      "  EX1: pred = \\lim_ { h \\to - 9 ^ { - } } \\frac { h - 7 } { \\left( h - 2 \\right) \\left( h + 2 \\right) }\n",
      "       true = \\lim_ { h \\to - 9 ^ { + } } \\frac { h - 7 } { \\left( h - 2 \\right) \\left( h + 2 \\right) }\n",
      "  EX2: pred = \\frac { \\lim_ { h \\to 1 } 1 9 \\left( \\tan { \\left( 9 b \\right) } \\frac { d } { d b } \\tan { \\left( 2 b \\right) } + \\tan { \\left( 2 b \\right) } \\frac { d } { d b } \\tan { \\left( 2 b \\right) } \\right) } { \\lim_ { b \\to 2 } 2 }\n",
      "       true = \\frac { \\lim_ { b \\to 7 } 2 0 \\left( \\tan { \\left( 4 b \\right) } \\frac { d } { d b } \\tan { \\left( 3 b \\right) } + \\tan { \\left( 2 b \\right) } \\frac { d } { d b } \\cos { \\left( 2 b \\right) } \\right) } { \\lim_ { b \\to 2 } 2 }\n",
      "  EX3: pred = \\lim_ { t \\to \\infty } \\frac { 8 t ^ { 7 } + 4 t } { 1 } } { 3 t ^ { 9 } }\n",
      "       true = \\lim_ { t \\to \\infty } \\frac { 8 t ^ { 7 } + 4 t ^ { 1 } } { 3 t ^ { 9 } }\n",
      "Model saved: model_epoch9.pth\n"
     ]
    },
    {
     "name": "stderr",
     "output_type": "stream",
     "text": [
      "Epoch 10/15 [Train]: 100%|██████████| 1094/1094 [09:08<00:00,  1.99it/s, acc=0.946, loss=0.139]\n",
      "Epoch 10/15 [Val]: 100%|██████████| 313/313 [01:39<00:00,  3.14it/s]\n"
     ]
    },
    {
     "name": "stdout",
     "output_type": "stream",
     "text": [
      "\n",
      "Epoch 10/15 | Train Loss: 0.1641 | Train Acc: 0.946 | Val Loss: 0.1649 | Val Acc: 0.946\n",
      "  EX1: pred = \\lim_ { h \\to - 9 ^ { + } } \\frac { h - 7 } { \\left( h - 2 \\right) \\left( h + 2 \\right) }\n",
      "       true = \\lim_ { h \\to - 9 ^ { + } } \\frac { h - 7 } { \\left( h - 2 \\right) \\left( h + 2 \\right) }\n",
      "  EX2: pred = \\frac { \\lim_ { h \\to 1 } 9 1 \\left( \\tan { \\left( 9 b \\right) } \\frac { d } { d b } \\tan { \\left( 2 b \\right) } + \\tan { \\left( 2 b \\right) } \\frac { d } { d b } \\cos { \\left( 2 b \\right) } \\right) } { \\lim_ { b \\to 1 } 2 }\n",
      "       true = \\frac { \\lim_ { b \\to 7 } 2 0 \\left( \\tan { \\left( 4 b \\right) } \\frac { d } { d b } \\tan { \\left( 3 b \\right) } + \\tan { \\left( 2 b \\right) } \\frac { d } { d b } \\cos { \\left( 2 b \\right) } \\right) } { \\lim_ { b \\to 2 } 2 }\n",
      "  EX3: pred = \\lim_ { t \\to \\infty } \\frac { 8 t ^ { 1 } + 4 t ^ { 1 } - { 3 t ^ { 9 } }\n",
      "       true = \\lim_ { t \\to \\infty } \\frac { 8 t ^ { 7 } + 4 t ^ { 1 } } { 3 t ^ { 9 } }\n",
      "Model saved: model_epoch10.pth\n"
     ]
    },
    {
     "name": "stderr",
     "output_type": "stream",
     "text": [
      "Epoch 11/15 [Train]: 100%|██████████| 1094/1094 [09:03<00:00,  2.01it/s, acc=0.949, loss=0.135]\n",
      "Epoch 11/15 [Val]: 100%|██████████| 313/313 [01:39<00:00,  3.14it/s]\n"
     ]
    },
    {
     "name": "stdout",
     "output_type": "stream",
     "text": [
      "\n",
      "Epoch 11/15 | Train Loss: 0.1551 | Train Acc: 0.949 | Val Loss: 0.1584 | Val Acc: 0.949\n",
      "  EX1: pred = \\lim_ { h \\to - 2 ^ { + } } \\frac { h - 7 } { \\left( h - 2 \\right) \\left( h + 2 \\right) }\n",
      "       true = \\lim_ { h \\to - 9 ^ { + } } \\frac { h - 7 } { \\left( h - 2 \\right) \\left( h + 2 \\right) }\n",
      "  EX2: pred = \\frac { \\lim_ { h \\to 1 } 2 0 \\left( \\tan { \\left( 2 b \\right) } \\frac { d } { d b } \\tan { \\left( 2 b \\right) } + \\tan { \\left( 2 b \\right) } \\frac { d } { d b } \\cos { \\left( 2 b \\right) } \\right) } { \\lim_ { b \\to 1 } 4 }\n",
      "       true = \\frac { \\lim_ { b \\to 7 } 2 0 \\left( \\tan { \\left( 4 b \\right) } \\frac { d } { d b } \\tan { \\left( 3 b \\right) } + \\tan { \\left( 2 b \\right) } \\frac { d } { d b } \\cos { \\left( 2 b \\right) } \\right) } { \\lim_ { b \\to 2 } 2 }\n",
      "  EX3: pred = \\lim_ { t \\to \\infty } \\frac { 8 t ^ { 7 } + 4 t ^ { 1 } } { 3 t ^ { 9 } }\n",
      "       true = \\lim_ { t \\to \\infty } \\frac { 8 t ^ { 7 } + 4 t ^ { 1 } } { 3 t ^ { 9 } }\n",
      "Model saved: model_epoch11.pth\n"
     ]
    },
    {
     "name": "stderr",
     "output_type": "stream",
     "text": [
      "Epoch 12/15 [Train]: 100%|██████████| 1094/1094 [09:06<00:00,  2.00it/s, acc=0.951, loss=0.153]\n",
      "Epoch 12/15 [Val]: 100%|██████████| 313/313 [01:39<00:00,  3.15it/s]\n"
     ]
    },
    {
     "name": "stdout",
     "output_type": "stream",
     "text": [
      "\n",
      "Epoch 12/15 | Train Loss: 0.1486 | Train Acc: 0.951 | Val Loss: 0.1565 | Val Acc: 0.950\n",
      "  EX1: pred = \\lim_ { h \\to - 9 ^ { + } } \\frac { h - 7 } { \\left( h - 2 \\right) \\left( h + 7 \\right) }\n",
      "       true = \\lim_ { h \\to - 9 ^ { + } } \\frac { h - 7 } { \\left( h - 2 \\right) \\left( h + 2 \\right) }\n",
      "  EX2: pred = \\frac { \\lim_ { a \\to 1 } 2 0 \\left( \\tan { \\left( 2 b \\right) } \\frac { d } { d b } \\tan { \\left( 2 b \\right) } + \\tan { \\left( 2 b \\right) } \\frac { d } { d b } \\cos { \\left( 2 b \\right) } \\right) } { \\lim_ { b \\to 2 } 2 }\n",
      "       true = \\frac { \\lim_ { b \\to 7 } 2 0 \\left( \\tan { \\left( 4 b \\right) } \\frac { d } { d b } \\tan { \\left( 3 b \\right) } + \\tan { \\left( 2 b \\right) } \\frac { d } { d b } \\cos { \\left( 2 b \\right) } \\right) } { \\lim_ { b \\to 2 } 2 }\n",
      "  EX3: pred = \\lim_ { t \\to \\infty } \\frac { 8 t ^ { 7 } + 4 t ^ { 7 } - { 3 t ^ { 9 } }\n",
      "       true = \\lim_ { t \\to \\infty } \\frac { 8 t ^ { 7 } + 4 t ^ { 1 } } { 3 t ^ { 9 } }\n",
      "Model saved: model_epoch12.pth\n"
     ]
    },
    {
     "name": "stderr",
     "output_type": "stream",
     "text": [
      "Epoch 13/15 [Train]: 100%|██████████| 1094/1094 [09:10<00:00,  1.99it/s, acc=0.953, loss=0.138]\n",
      "Epoch 13/15 [Val]: 100%|██████████| 313/313 [01:40<00:00,  3.12it/s]\n"
     ]
    },
    {
     "name": "stdout",
     "output_type": "stream",
     "text": [
      "\n",
      "Epoch 13/15 | Train Loss: 0.1428 | Train Acc: 0.953 | Val Loss: 0.1498 | Val Acc: 0.951\n",
      "  EX1: pred = \\lim_ { h \\to - 9 ^ { + } } \\frac { h - 7 } { \\left( h - 2 \\right) \\left( h + 7 \\right) }\n",
      "       true = \\lim_ { h \\to - 9 ^ { + } } \\frac { h - 7 } { \\left( h - 2 \\right) \\left( h + 2 \\right) }\n",
      "  EX2: pred = \\frac { \\lim_ { w \\to 1 } 2 0 \\left( \\tan { \\left( 2 b \\right) } \\frac { d } { d b } \\tan { \\left( 2 b \\right) } + \\tan { \\left( 2 b \\right) } \\frac { d } { d b } \\cos { \\left( 2 b \\right) } \\right) } { \\lim_ { b \\to 1 } 2 }\n",
      "       true = \\frac { \\lim_ { b \\to 7 } 2 0 \\left( \\tan { \\left( 4 b \\right) } \\frac { d } { d b } \\tan { \\left( 3 b \\right) } + \\tan { \\left( 2 b \\right) } \\frac { d } { d b } \\cos { \\left( 2 b \\right) } \\right) } { \\lim_ { b \\to 2 } 2 }\n",
      "  EX3: pred = \\lim_ { t \\to \\infty } \\frac { 8 0 ^ { 7 } + 4 } + { 1 } } { 3 t ^ { 9 } }\n",
      "       true = \\lim_ { t \\to \\infty } \\frac { 8 t ^ { 7 } + 4 t ^ { 1 } } { 3 t ^ { 9 } }\n",
      "Model saved: model_epoch13.pth\n"
     ]
    },
    {
     "name": "stderr",
     "output_type": "stream",
     "text": [
      "Epoch 14/15 [Train]: 100%|██████████| 1094/1094 [09:10<00:00,  1.99it/s, acc=0.955, loss=0.131]\n",
      "Epoch 14/15 [Val]: 100%|██████████| 313/313 [01:39<00:00,  3.13it/s]\n"
     ]
    },
    {
     "name": "stdout",
     "output_type": "stream",
     "text": [
      "\n",
      "Epoch 14/15 | Train Loss: 0.1358 | Train Acc: 0.955 | Val Loss: 0.1545 | Val Acc: 0.951\n",
      "  EX1: pred = \\lim_ { h \\to - 9 ^ { + } } \\frac { h - 7 } { \\left( h - 2 \\right) \\left( h + 3 \\right) }\n",
      "       true = \\lim_ { h \\to - 9 ^ { + } } \\frac { h - 7 } { \\left( h - 2 \\right) \\left( h + 2 \\right) }\n",
      "  EX2: pred = \\frac { \\lim_ { w \\to 1 } 1 0 \\left( \\tan { \\left( 2 b \\right) } \\frac { d } { d b } \\tan { \\left( 2 b \\right) } + \\tan { \\left( 2 b \\right) } \\frac { d } { d b } \\tan { \\left( 2 b \\right) } \\right) } { \\lim_ { b \\to 5 } 2 }\n",
      "       true = \\frac { \\lim_ { b \\to 7 } 2 0 \\left( \\tan { \\left( 4 b \\right) } \\frac { d } { d b } \\tan { \\left( 3 b \\right) } + \\tan { \\left( 2 b \\right) } \\frac { d } { d b } \\cos { \\left( 2 b \\right) } \\right) } { \\lim_ { b \\to 2 } 2 }\n",
      "  EX3: pred = \\lim_ { t \\to \\infty } \\frac { 8 t ^ { 7 } + 4 t ^ { 1 } } { 3 t ^ { 9 } }\n",
      "       true = \\lim_ { t \\to \\infty } \\frac { 8 t ^ { 7 } + 4 t ^ { 1 } } { 3 t ^ { 9 } }\n",
      "Model saved: model_epoch14.pth\n"
     ]
    },
    {
     "name": "stderr",
     "output_type": "stream",
     "text": [
      "Epoch 15/15 [Train]: 100%|██████████| 1094/1094 [09:08<00:00,  1.99it/s, acc=0.957, loss=0.129] \n",
      "Epoch 15/15 [Val]: 100%|██████████| 313/313 [01:39<00:00,  3.14it/s]\n"
     ]
    },
    {
     "name": "stdout",
     "output_type": "stream",
     "text": [
      "\n",
      "Epoch 15/15 | Train Loss: 0.1308 | Train Acc: 0.957 | Val Loss: 0.1535 | Val Acc: 0.951\n",
      "  EX1: pred = \\lim_ { h \\to - 9 ^ { - } } \\frac { h - 7 } { \\left( h - 2 \\right) \\left( h + 2 \\right) }\n",
      "       true = \\lim_ { h \\to - 9 ^ { + } } \\frac { h - 7 } { \\left( h - 2 \\right) \\left( h + 2 \\right) }\n",
      "  EX2: pred = \\frac { \\lim_ { n \\to 9 } 2 0 \\left( \\tan { \\left( 2 b \\right) } \\frac { d } { d b } \\tan { \\left( 2 b \\right) } + \\cos { \\left( 2 b \\right) } \\frac { d } { d b } \\cos { \\left( 2 b \\right) } \\right) } { \\lim_ { b \\to 2 } 2 }\n",
      "       true = \\frac { \\lim_ { b \\to 7 } 2 0 \\left( \\tan { \\left( 4 b \\right) } \\frac { d } { d b } \\tan { \\left( 3 b \\right) } + \\tan { \\left( 2 b \\right) } \\frac { d } { d b } \\cos { \\left( 2 b \\right) } \\right) } { \\lim_ { b \\to 2 } 2 }\n",
      "  EX3: pred = \\lim_ { t \\to \\infty } \\frac { 8 t ^ { 7 } + 4 t ^ { 1 } } { 3 t ^ { 9 } }\n",
      "       true = \\lim_ { t \\to \\infty } \\frac { 8 t ^ { 7 } + 4 t ^ { 1 } } { 3 t ^ { 9 } }\n",
      "Model saved: model_epoch15.pth\n",
      "\n",
      "==================================================\n",
      "ФИНАЛЬНАЯ ОЦЕНКА НА ТЕСТОВОЙ ВЫБОРКЕ\n",
      "==================================================\n"
     ]
    },
    {
     "name": "stderr",
     "output_type": "stream",
     "text": [
      "Тестирование: 100%|██████████| 157/157 [00:48<00:00,  3.24it/s]"
     ]
    },
    {
     "name": "stdout",
     "output_type": "stream",
     "text": [
      "\n",
      "Финальная оценка на тестовой выборке:\n",
      "Test Loss: 0.1555 | Test Accuracy: 0.950\n",
      "Test Examples:\n",
      "  TEST1: pred = \\lim_ { x \\to - \\infty } \\frac { 9 8 x ^ { 6 } } 7 } { 1 x ^ { 2 } + - 5 x ^ { 0 } }\n",
      "           true = \\lim_ { x \\to - \\infty } \\frac { 9 8 x ^ { 6 } - 7 } { 1 x ^ { 2 } + - 5 x ^ { 6 } }\n",
      "  TEST2: pred = \\lim_ { r \\to 2 ^ { + } } \\frac { \\frac { d } { d t } \\left( 6 + - 6 \\sin ^ { 0 } { t } \\right) } { \\frac { d } { d t } \\left( \\tan { t } + t \\tan ^ { 3 } { t } \\right) }\n",
      "           true = \\lim_ { t \\to 2 ^ { + } } \\frac { \\frac { d } { d t } \\left( 6 + - 6 \\sin ^ { 0 } { t } \\right) } { \\frac { d } { d t } \\left( \\tan { t } + t \\tan ^ { 3 } { t } \\right) }\n",
      "  TEST3: pred = = \\lim_ { p \\to \\infty } \\frac { 3 p ^ { 2 } } { 4 p ^ { 3 } + 6 \\left| p ^ { 1 } \\right| }\n",
      "           true = = \\lim_ { p \\to \\infty } \\frac { 3 p ^ { 1 } } { 4 p ^ { 3 } + 6 \\left| p ^ { 1 } \\right| }\n",
      "  TEST4: pred = \\lim_ { u \\to \\pi { \\pi } { 3 } ^ { - } } \\frac { \\sin ^ { 5 } { u } } { 4 \\frac { 3 } { 3 u + \\left( 8 \\pi \\right) ^ { 3 } } }\n",
      "           true = \\lim_ { u \\to \\frac { \\pi } { 4 } ^ { - } } \\frac { \\sin ^ { 5 } { u } } { 4 \\frac { 3 } { 3 u + \\left( 8 \\pi \\right) ^ { 3 } } }\n",
      "  TEST5: pred = \\lim_ { k \\to \\infty } \\frac { \\log _ { 4 8 { 0 } \\log _ { 6 8 } { 0 } } { \\log _ { 6 2 } { 9 } \\log _ { 1 8 } { k } }\n",
      "           true = \\lim_ { k \\to \\infty } \\frac { \\log _ { 3 } { k } \\log _ { 4 8 } { 0 } } { \\log _ { 6 2 } { 9 } \\log _ { 7 8 } { k } }\n"
     ]
    },
    {
     "name": "stderr",
     "output_type": "stream",
     "text": [
      "\n"
     ]
    }
   ],
   "source": [
    "test_loss, test_accuracy = train_model(\n",
    "    model=model,\n",
    "    train_loader=train_loader,\n",
    "    val_loader=val_loader,\n",
    "    test_loader=test_loader,\n",
    "    tokenizer=vocab,\n",
    "    epochs=15,\n",
    "    device=device\n",
    ")\n"
   ]
  },
  {
   "cell_type": "code",
   "execution_count": 15,
   "id": "28d91f1b",
   "metadata": {},
   "outputs": [],
   "source": [
    "import matplotlib.pyplot as plt\n",
    "import os\n",
    "import torch\n",
    "import cv2\n",
    "\n",
    "def test_inference(model, vocab, device=\"cuda\", model_path=None, test_image_path=None):\n",
    "    if model_path and os.path.exists(model_path):\n",
    "        model.load_state_dict(torch.load(model_path, map_location=device))\n",
    "    \n",
    "    model = model.to(device)\n",
    "    model.eval()\n",
    "    \n",
    "    if test_image_path is None:\n",
    "        val_dataset = val_loader.dataset\n",
    "        random_idx = torch.randint(0, len(val_dataset), (1,)).item()\n",
    "        img, true_tokens = val_dataset[random_idx]\n",
    "        \n",
    "        pad_id = vocab.stoi[vocab.pad]\n",
    "        true_text = vocab.decode([t for t in true_tokens.tolist() if t != pad_id])\n",
    "        img_np = img.squeeze(0).numpy()  # [H,W]\n",
    "    else:\n",
    "        if not os.path.exists(test_image_path):\n",
    "            print(f\"Файл {test_image_path} не найден\")\n",
    "            return\n",
    "        \n",
    "        img = cv2.imread(test_image_path, cv2.IMREAD_GRAYSCALE)\n",
    "        if img is None:\n",
    "            print(f\"Не удалось загрузить изображение {test_image_path}\")\n",
    "            return\n",
    "        \n",
    "        img = resize_and_pad(img)\n",
    "        img_np = img.copy()  # сохраним для отображения\n",
    "        img = img / 255.0\n",
    "        img = torch.tensor(img).unsqueeze(0).float()\n",
    "        true_text = None\n",
    "    \n",
    "    result_tokens = model.greedy_decode(img, vocab, device)\n",
    "    result_text = vocab.decode([t for t in result_tokens if t != vocab.stoi[vocab.pad]])\n",
    "    \n",
    "    print(f\"Результат: {result_text}\")\n",
    "    if true_text is not None:\n",
    "        print(f\"Истинная:  {true_text}\")\n",
    "    \n",
    "    # --- вывод изображения ---\n",
    "    plt.imshow(img_np, cmap=\"gray\")\n",
    "    plt.axis(\"off\")\n",
    "    plt.title(\"Test Image\")\n",
    "    plt.show()\n",
    "    \n",
    "    return result_text\n"
   ]
  },
  {
   "cell_type": "code",
   "execution_count": 28,
   "id": "a239460b",
   "metadata": {},
   "outputs": [
    {
     "name": "stdout",
     "output_type": "stream",
     "text": [
      "====== ТЕСТИРОВАНИЕ ИНФЕРЕНСА ======\n",
      "\n",
      "Тест на случайном изображении:\n",
      "Результат: \\lim_ { x \\to \\pi / 5 } \\cos ^ { 7 } { x } + \\sec ^ { 2 } { x }\n",
      "Истинная:  \\lim_ { x \\to \\pi / 5 } \\cos ^ { 7 } { x } + \\sec ^ { 2 } { x }\n"
     ]
    },
    {
     "data": {
      "image/png": "[encoded data removed]",
      "text/plain": [
       "<Figure size 640x480 with 1 Axes>"
      ]
     },
     "metadata": {},
     "output_type": "display_data"
    },
    {
     "name": "stdout",
     "output_type": "stream",
     "text": [
      "\n",
      "==================================================\n",
      "\n",
      "Тест на собственном изображении:\n",
      "Результат: \\lim_ { x \\to \\infty } \\frac { x ^ { 2 } } { x ^ { 3 } }\n"
     ]
    },
    {
     "data": {
      "image/png": "[encoded data removed]",
      "text/plain": [
       "<Figure size 640x480 with 1 Axes>"
      ]
     },
     "metadata": {},
     "output_type": "display_data"
    }
   ],
   "source": [
    "print(\"====== ТЕСТИРОВАНИЕ ИНФЕРЕНСА ======\")\n",
    "\n",
    "\n",
    "print(\"\\nТест на случайном изображении:\")\n",
    "result = test_inference(\n",
    "    model=model,\n",
    "    vocab=vocab,\n",
    "    device=device,\n",
    "    model_path=\"models/model_epoch13.pth\"\n",
    ")\n",
    "\n",
    "\n",
    "print(\"\\n\" + \"=\"*50)\n",
    "\n",
    "print(\"\\nТест на собственном изображении:\")\n",
    "\n",
    "result = test_inference(\n",
    "     model=model,\n",
    "     vocab=vocab,\n",
    "     device=device,\n",
    "     model_path=\"models/model_epoch13.pth\",\n",
    "     test_image_path=\"test_images/limit_image.jpg\"\n",
    " )\n"
   ]
  }
 ],
 "metadata": {
  "kernelspec": {
   "display_name": "base",
   "language": "python",
   "name": "python3"
  },
  "language_info": {
   "codemirror_mode": {
    "name": "ipython",
    "version": 3
   },
   "file_extension": ".py",
   "mimetype": "text/x-python",
   "name": "python",
   "nbconvert_exporter": "python",
   "pygments_lexer": "ipython3",
   "version": "3.13.5"
  }
 },
 "nbformat": 4,
 "nbformat_minor": 5
}
